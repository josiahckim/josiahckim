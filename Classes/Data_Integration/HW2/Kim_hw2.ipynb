{
 "cells": [
  {
   "cell_type": "markdown",
   "metadata": {},
   "source": [
    "# DS 320: HW 2 \n",
    "## Josiah Kim"
   ]
  },
  {
   "cell_type": "markdown",
   "metadata": {},
   "source": [
    "1. "
   ]
  },
  {
   "cell_type": "code",
   "execution_count": 20,
   "metadata": {
    "scrolled": true
   },
   "outputs": [
    {
     "name": "stdout",
     "output_type": "stream",
     "text": [
      "The Jaccard similarity of \"Apple Corporation, CA\" and \"Apple Corp, CA\" when k = 1 is 0.4857142857142857\n",
      "The Jaccard similarity of \"Apple Corporation, CA\" and \"Apple Corp, CA\" when k = 2 is 0.3939393939393939\n",
      "The Jaccard similarity of \"Apple Corporation, CA\" and \"Apple Corp, CA\" when k = 3 is 0.3225806451612903\n",
      "The Jaccard similarity of \"Apple Corporation, CA\" and \"Apple Corp, CA\" when k = 4 is 0.27586206896551724\n"
     ]
    }
   ],
   "source": [
    "def jaccard_sim(x, y, k):\n",
    "    # Split the string into sets depending on k\n",
    "    x_set = []\n",
    "    y_set = []\n",
    "    for x_split in range(len(x)- k + 1):\n",
    "        x_temp = x[x_split:x_split + k]\n",
    "        x_set.append(x_temp)\n",
    "    for y_split in range(len(y) - k + 1):\n",
    "        y_temp = y[y_split:y_split + k]\n",
    "        y_set.append(y_temp)\n",
    "    # Calculate similarity \n",
    "    # Use list comprehension with if condition  \n",
    "    inter = [value for value in x_set if value in y_set]\n",
    "    union = x_set + y_set\n",
    "    return len(inter)/len(union)\n",
    "\n",
    "# TEST\n",
    "for x in range(1, 5):\n",
    "    print(\"The Jaccard similarity of \\\"Apple Corporation, CA\\\" and \\\"Apple Corp, CA\\\" when k =\", x,\"is\", jaccard_sim(\"Apple Corporation, CA\", \n",
    "                      \"Apple Corp, CA\", x))"
   ]
  },
  {
   "cell_type": "markdown",
   "metadata": {},
   "source": [
    "2. "
   ]
  },
  {
   "cell_type": "code",
   "execution_count": 19,
   "metadata": {},
   "outputs": [
    {
     "name": "stdout",
     "output_type": "stream",
     "text": [
      "The edit distance between \"Apple\" and \"Apel\" is 2\n"
     ]
    }
   ],
   "source": [
    "def edit_distance(x, y):\n",
    "    m = int(len(x))\n",
    "    n = int(len(y))\n",
    "    # Create empty matrix\n",
    "    matrix = [[0 for x in range(n + 1)] for x in range(m + 1)]\n",
    "    # Fill matrix starting with the first row\n",
    "    for i in range(m + 1):\n",
    "        for j in range(n + 1):\n",
    "            # Fill the first row with sequential numbers\n",
    "            if i == 0:\n",
    "                matrix[i][j] = j\n",
    "            # Fill the first column with sequential numbers \n",
    "            elif j == 0:\n",
    "                matrix[i][j] = i\n",
    "            # Carry over the number if there is no character change \n",
    "            elif x[i-1] == y[j-1]:\n",
    "                matrix[i][j] = matrix[i-1][j-1]\n",
    "            # Find the minimal action \n",
    "            else: \n",
    "                matrix[i][j] = 1 + min(matrix[i][j-1], matrix[i-1][j], matrix[i-1][j-1])\n",
    "        #print(matrix)\n",
    "    return matrix[m][n]\n",
    "\n",
    "# TEST\n",
    "print(\"The edit distance between \\\"Apple\\\" and \\\"Apel\\\" is\", edit_distance(\"Apple\",\"Apel\"))"
   ]
  },
  {
   "cell_type": "markdown",
   "metadata": {},
   "source": [
    "3. "
   ]
  },
  {
   "cell_type": "code",
   "execution_count": 25,
   "metadata": {},
   "outputs": [
    {
     "name": "stdout",
     "output_type": "stream",
     "text": [
      "The similarity between \"Apple Corporation, CA\" and \"Apple Corp, CA\" is 0.6666666666666667\n"
     ]
    }
   ],
   "source": [
    "def ed_similarity(x, y):\n",
    "    return 1 - edit_distance(x, y) / max(len(x), len(y))\n",
    "\n",
    "# TEST\n",
    "print(\"The similarity between \\\"Apple Corporation, CA\\\" and \\\"Apple Corp, CA\\\" is\", ed_similarity(\"Apple Corporation, CA\", \n",
    "                      \"Apple Corp, CA\"))"
   ]
  }
 ],
 "metadata": {
  "kernelspec": {
   "display_name": "Python 3",
   "language": "python",
   "name": "python3"
  },
  "language_info": {
   "codemirror_mode": {
    "name": "ipython",
    "version": 3
   },
   "file_extension": ".py",
   "mimetype": "text/x-python",
   "name": "python",
   "nbconvert_exporter": "python",
   "pygments_lexer": "ipython3",
   "version": "3.8.5"
  }
 },
 "nbformat": 4,
 "nbformat_minor": 4
}
