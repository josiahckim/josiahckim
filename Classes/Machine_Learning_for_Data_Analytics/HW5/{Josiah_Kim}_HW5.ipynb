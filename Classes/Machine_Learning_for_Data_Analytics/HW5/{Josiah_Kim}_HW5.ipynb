{
 "cells": [
  {
   "cell_type": "code",
   "execution_count": 31,
   "metadata": {},
   "outputs": [],
   "source": [
    "import matplotlib.pyplot as plt\n",
    "import numpy as np\n",
    "import pandas as pd"
   ]
  },
  {
   "cell_type": "code",
   "execution_count": 32,
   "metadata": {},
   "outputs": [],
   "source": [
    "# load data\n",
    "def load_digit(file_name: str):\n",
    "    digit = np.loadtxt(file_name, delimiter=',')\n",
    "    return digit.reshape(-1, 28, 28)\n"
   ]
  },
  {
   "cell_type": "code",
   "execution_count": 33,
   "metadata": {},
   "outputs": [],
   "source": [
    "digit_5 = load_digit('digit_5.csv')\n",
    "digit_6 = load_digit('digit_6.csv')"
   ]
  },
  {
   "cell_type": "code",
   "execution_count": 34,
   "metadata": {},
   "outputs": [
    {
     "data": {
      "image/png": "[encoded data removed]",
      "text/plain": [
       "<Figure size 432x288 with 2 Axes>"
      ]
     },
     "metadata": {
      "needs_background": "light"
     },
     "output_type": "display_data"
    }
   ],
   "source": [
    "# visualize image\n",
    "fig, axes = plt.subplots(1, 2)\n",
    "axes[0].set_title(\"The label is 5.\")\n",
    "axes[0].imshow(digit_5[1], cmap='gray')\n",
    "axes[1].set_title(\"The label is 6.\")\n",
    "axes[1].imshow(digit_6[1], cmap='gray')\n",
    "fig.savefig(\"fig.png\", dpi=300)"
   ]
  },
  {
   "cell_type": "code",
   "execution_count": 35,
   "metadata": {},
   "outputs": [
    {
     "data": {
      "text/plain": [
       "(10404, 28, 28)"
      ]
     },
     "execution_count": 35,
     "metadata": {},
     "output_type": "execute_result"
    }
   ],
   "source": [
    "np.concatenate((digit_5, digit_6)).shape"
   ]
  },
  {
   "cell_type": "code",
   "execution_count": 36,
   "metadata": {},
   "outputs": [],
   "source": [
    "data = np.concatenate((digit_5, digit_6))\n",
    "label = np.concatenate((\n",
    "    np.zeros(len(digit_5)), np.ones(len(digit_6))\n",
    "))"
   ]
  },
  {
   "cell_type": "code",
   "execution_count": 37,
   "metadata": {},
   "outputs": [],
   "source": [
    "'''\n",
    "Reshape dataset into 2d.\n",
    "'''\n",
    "nsamples, nx, ny = data.shape\n",
    "d2_train_dataset = data.reshape((nsamples,nx*ny))"
   ]
  },
  {
   "cell_type": "code",
   "execution_count": 84,
   "metadata": {},
   "outputs": [],
   "source": [
    "from sklearn.model_selection import train_test_split\n",
    "train_X, test_X, train_y, test_y = train_test_split(d2_train_dataset, label, random_state=2021) # Default is 25% test."
   ]
  },
  {
   "cell_type": "markdown",
   "metadata": {},
   "source": [
    "## SVM for Classifying Digits"
   ]
  },
  {
   "cell_type": "code",
   "execution_count": 39,
   "metadata": {},
   "outputs": [],
   "source": [
    "# import necessary pakages in this cell\n",
    "from sklearn.svm import LinearSVC\n",
    "from sklearn.svm import SVC\n",
    "from sklearn.model_selection import cross_val_score\n",
    "import math"
   ]
  },
  {
   "cell_type": "code",
   "execution_count": 10,
   "metadata": {
    "scrolled": true
   },
   "outputs": [
    {
     "name": "stdout",
     "output_type": "stream",
     "text": [
      "C:0.001 0.9752661016113932\n",
      "C:0.1 0.9784698336043627\n"
     ]
    },
    {
     "name": "stderr",
     "output_type": "stream",
     "text": [
      "/Users/josiahkim/Applications/anaconda3/lib/python3.8/site-packages/sklearn/svm/_base.py:976: ConvergenceWarning: Liblinear failed to converge, increase the number of iterations.\n",
      "  warnings.warn(\"Liblinear failed to converge, increase \"\n",
      "/Users/josiahkim/Applications/anaconda3/lib/python3.8/site-packages/sklearn/svm/_base.py:976: ConvergenceWarning: Liblinear failed to converge, increase the number of iterations.\n",
      "  warnings.warn(\"Liblinear failed to converge, increase \"\n",
      "/Users/josiahkim/Applications/anaconda3/lib/python3.8/site-packages/sklearn/svm/_base.py:976: ConvergenceWarning: Liblinear failed to converge, increase the number of iterations.\n",
      "  warnings.warn(\"Liblinear failed to converge, increase \"\n",
      "/Users/josiahkim/Applications/anaconda3/lib/python3.8/site-packages/sklearn/svm/_base.py:976: ConvergenceWarning: Liblinear failed to converge, increase the number of iterations.\n",
      "  warnings.warn(\"Liblinear failed to converge, increase \"\n",
      "/Users/josiahkim/Applications/anaconda3/lib/python3.8/site-packages/sklearn/svm/_base.py:976: ConvergenceWarning: Liblinear failed to converge, increase the number of iterations.\n",
      "  warnings.warn(\"Liblinear failed to converge, increase \"\n",
      "/Users/josiahkim/Applications/anaconda3/lib/python3.8/site-packages/sklearn/svm/_base.py:976: ConvergenceWarning: Liblinear failed to converge, increase the number of iterations.\n",
      "  warnings.warn(\"Liblinear failed to converge, increase \"\n"
     ]
    },
    {
     "name": "stdout",
     "output_type": "stream",
     "text": [
      "C:0.5 0.9764192907242235\n"
     ]
    },
    {
     "name": "stderr",
     "output_type": "stream",
     "text": [
      "/Users/josiahkim/Applications/anaconda3/lib/python3.8/site-packages/sklearn/svm/_base.py:976: ConvergenceWarning: Liblinear failed to converge, increase the number of iterations.\n",
      "  warnings.warn(\"Liblinear failed to converge, increase \"\n",
      "/Users/josiahkim/Applications/anaconda3/lib/python3.8/site-packages/sklearn/svm/_base.py:976: ConvergenceWarning: Liblinear failed to converge, increase the number of iterations.\n",
      "  warnings.warn(\"Liblinear failed to converge, increase \"\n",
      "/Users/josiahkim/Applications/anaconda3/lib/python3.8/site-packages/sklearn/svm/_base.py:976: ConvergenceWarning: Liblinear failed to converge, increase the number of iterations.\n",
      "  warnings.warn(\"Liblinear failed to converge, increase \"\n",
      "/Users/josiahkim/Applications/anaconda3/lib/python3.8/site-packages/sklearn/svm/_base.py:976: ConvergenceWarning: Liblinear failed to converge, increase the number of iterations.\n",
      "  warnings.warn(\"Liblinear failed to converge, increase \"\n",
      "/Users/josiahkim/Applications/anaconda3/lib/python3.8/site-packages/sklearn/svm/_base.py:976: ConvergenceWarning: Liblinear failed to converge, increase the number of iterations.\n",
      "  warnings.warn(\"Liblinear failed to converge, increase \"\n",
      "/Users/josiahkim/Applications/anaconda3/lib/python3.8/site-packages/sklearn/svm/_base.py:976: ConvergenceWarning: Liblinear failed to converge, increase the number of iterations.\n",
      "  warnings.warn(\"Liblinear failed to converge, increase \"\n"
     ]
    },
    {
     "name": "stdout",
     "output_type": "stream",
     "text": [
      "C:1 0.9737282971139474\n"
     ]
    },
    {
     "name": "stderr",
     "output_type": "stream",
     "text": [
      "/Users/josiahkim/Applications/anaconda3/lib/python3.8/site-packages/sklearn/svm/_base.py:976: ConvergenceWarning: Liblinear failed to converge, increase the number of iterations.\n",
      "  warnings.warn(\"Liblinear failed to converge, increase \"\n",
      "/Users/josiahkim/Applications/anaconda3/lib/python3.8/site-packages/sklearn/svm/_base.py:976: ConvergenceWarning: Liblinear failed to converge, increase the number of iterations.\n",
      "  warnings.warn(\"Liblinear failed to converge, increase \"\n",
      "/Users/josiahkim/Applications/anaconda3/lib/python3.8/site-packages/sklearn/svm/_base.py:976: ConvergenceWarning: Liblinear failed to converge, increase the number of iterations.\n",
      "  warnings.warn(\"Liblinear failed to converge, increase \"\n",
      "/Users/josiahkim/Applications/anaconda3/lib/python3.8/site-packages/sklearn/svm/_base.py:976: ConvergenceWarning: Liblinear failed to converge, increase the number of iterations.\n",
      "  warnings.warn(\"Liblinear failed to converge, increase \"\n",
      "/Users/josiahkim/Applications/anaconda3/lib/python3.8/site-packages/sklearn/svm/_base.py:976: ConvergenceWarning: Liblinear failed to converge, increase the number of iterations.\n",
      "  warnings.warn(\"Liblinear failed to converge, increase \"\n",
      "/Users/josiahkim/Applications/anaconda3/lib/python3.8/site-packages/sklearn/svm/_base.py:976: ConvergenceWarning: Liblinear failed to converge, increase the number of iterations.\n",
      "  warnings.warn(\"Liblinear failed to converge, increase \"\n"
     ]
    },
    {
     "name": "stdout",
     "output_type": "stream",
     "text": [
      "C:10 0.969883539479952\n"
     ]
    },
    {
     "name": "stderr",
     "output_type": "stream",
     "text": [
      "/Users/josiahkim/Applications/anaconda3/lib/python3.8/site-packages/sklearn/svm/_base.py:976: ConvergenceWarning: Liblinear failed to converge, increase the number of iterations.\n",
      "  warnings.warn(\"Liblinear failed to converge, increase \"\n",
      "/Users/josiahkim/Applications/anaconda3/lib/python3.8/site-packages/sklearn/svm/_base.py:976: ConvergenceWarning: Liblinear failed to converge, increase the number of iterations.\n",
      "  warnings.warn(\"Liblinear failed to converge, increase \"\n",
      "/Users/josiahkim/Applications/anaconda3/lib/python3.8/site-packages/sklearn/svm/_base.py:976: ConvergenceWarning: Liblinear failed to converge, increase the number of iterations.\n",
      "  warnings.warn(\"Liblinear failed to converge, increase \"\n",
      "/Users/josiahkim/Applications/anaconda3/lib/python3.8/site-packages/sklearn/svm/_base.py:976: ConvergenceWarning: Liblinear failed to converge, increase the number of iterations.\n",
      "  warnings.warn(\"Liblinear failed to converge, increase \"\n",
      "/Users/josiahkim/Applications/anaconda3/lib/python3.8/site-packages/sklearn/svm/_base.py:976: ConvergenceWarning: Liblinear failed to converge, increase the number of iterations.\n",
      "  warnings.warn(\"Liblinear failed to converge, increase \"\n",
      "/Users/josiahkim/Applications/anaconda3/lib/python3.8/site-packages/sklearn/svm/_base.py:976: ConvergenceWarning: Liblinear failed to converge, increase the number of iterations.\n",
      "  warnings.warn(\"Liblinear failed to converge, increase \"\n"
     ]
    },
    {
     "name": "stdout",
     "output_type": "stream",
     "text": [
      "C:100 0.9693712117478933\n"
     ]
    },
    {
     "name": "stderr",
     "output_type": "stream",
     "text": [
      "/Users/josiahkim/Applications/anaconda3/lib/python3.8/site-packages/sklearn/svm/_base.py:976: ConvergenceWarning: Liblinear failed to converge, increase the number of iterations.\n",
      "  warnings.warn(\"Liblinear failed to converge, increase \"\n",
      "/Users/josiahkim/Applications/anaconda3/lib/python3.8/site-packages/sklearn/svm/_base.py:976: ConvergenceWarning: Liblinear failed to converge, increase the number of iterations.\n",
      "  warnings.warn(\"Liblinear failed to converge, increase \"\n",
      "/Users/josiahkim/Applications/anaconda3/lib/python3.8/site-packages/sklearn/svm/_base.py:976: ConvergenceWarning: Liblinear failed to converge, increase the number of iterations.\n",
      "  warnings.warn(\"Liblinear failed to converge, increase \"\n",
      "/Users/josiahkim/Applications/anaconda3/lib/python3.8/site-packages/sklearn/svm/_base.py:976: ConvergenceWarning: Liblinear failed to converge, increase the number of iterations.\n",
      "  warnings.warn(\"Liblinear failed to converge, increase \"\n",
      "/Users/josiahkim/Applications/anaconda3/lib/python3.8/site-packages/sklearn/svm/_base.py:976: ConvergenceWarning: Liblinear failed to converge, increase the number of iterations.\n",
      "  warnings.warn(\"Liblinear failed to converge, increase \"\n",
      "/Users/josiahkim/Applications/anaconda3/lib/python3.8/site-packages/sklearn/svm/_base.py:976: ConvergenceWarning: Liblinear failed to converge, increase the number of iterations.\n",
      "  warnings.warn(\"Liblinear failed to converge, increase \"\n"
     ]
    },
    {
     "name": "stdout",
     "output_type": "stream",
     "text": [
      "C:1000 0.9689869248837859\n"
     ]
    },
    {
     "name": "stderr",
     "output_type": "stream",
     "text": [
      "/Users/josiahkim/Applications/anaconda3/lib/python3.8/site-packages/sklearn/svm/_base.py:976: ConvergenceWarning: Liblinear failed to converge, increase the number of iterations.\n",
      "  warnings.warn(\"Liblinear failed to converge, increase \"\n",
      "/Users/josiahkim/Applications/anaconda3/lib/python3.8/site-packages/sklearn/svm/_base.py:976: ConvergenceWarning: Liblinear failed to converge, increase the number of iterations.\n",
      "  warnings.warn(\"Liblinear failed to converge, increase \"\n",
      "/Users/josiahkim/Applications/anaconda3/lib/python3.8/site-packages/sklearn/svm/_base.py:976: ConvergenceWarning: Liblinear failed to converge, increase the number of iterations.\n",
      "  warnings.warn(\"Liblinear failed to converge, increase \"\n",
      "/Users/josiahkim/Applications/anaconda3/lib/python3.8/site-packages/sklearn/svm/_base.py:976: ConvergenceWarning: Liblinear failed to converge, increase the number of iterations.\n",
      "  warnings.warn(\"Liblinear failed to converge, increase \"\n",
      "/Users/josiahkim/Applications/anaconda3/lib/python3.8/site-packages/sklearn/svm/_base.py:976: ConvergenceWarning: Liblinear failed to converge, increase the number of iterations.\n",
      "  warnings.warn(\"Liblinear failed to converge, increase \"\n",
      "/Users/josiahkim/Applications/anaconda3/lib/python3.8/site-packages/sklearn/svm/_base.py:976: ConvergenceWarning: Liblinear failed to converge, increase the number of iterations.\n",
      "  warnings.warn(\"Liblinear failed to converge, increase \"\n"
     ]
    },
    {
     "name": "stdout",
     "output_type": "stream",
     "text": [
      "C:2000 0.9697555807421278\n"
     ]
    },
    {
     "name": "stderr",
     "output_type": "stream",
     "text": [
      "/Users/josiahkim/Applications/anaconda3/lib/python3.8/site-packages/sklearn/svm/_base.py:976: ConvergenceWarning: Liblinear failed to converge, increase the number of iterations.\n",
      "  warnings.warn(\"Liblinear failed to converge, increase \"\n",
      "/Users/josiahkim/Applications/anaconda3/lib/python3.8/site-packages/sklearn/svm/_base.py:976: ConvergenceWarning: Liblinear failed to converge, increase the number of iterations.\n",
      "  warnings.warn(\"Liblinear failed to converge, increase \"\n",
      "/Users/josiahkim/Applications/anaconda3/lib/python3.8/site-packages/sklearn/svm/_base.py:976: ConvergenceWarning: Liblinear failed to converge, increase the number of iterations.\n",
      "  warnings.warn(\"Liblinear failed to converge, increase \"\n",
      "/Users/josiahkim/Applications/anaconda3/lib/python3.8/site-packages/sklearn/svm/_base.py:976: ConvergenceWarning: Liblinear failed to converge, increase the number of iterations.\n",
      "  warnings.warn(\"Liblinear failed to converge, increase \"\n",
      "/Users/josiahkim/Applications/anaconda3/lib/python3.8/site-packages/sklearn/svm/_base.py:976: ConvergenceWarning: Liblinear failed to converge, increase the number of iterations.\n",
      "  warnings.warn(\"Liblinear failed to converge, increase \"\n",
      "/Users/josiahkim/Applications/anaconda3/lib/python3.8/site-packages/sklearn/svm/_base.py:976: ConvergenceWarning: Liblinear failed to converge, increase the number of iterations.\n",
      "  warnings.warn(\"Liblinear failed to converge, increase \"\n"
     ]
    },
    {
     "name": "stdout",
     "output_type": "stream",
     "text": [
      "C:5000 0.9691149657517372\n"
     ]
    },
    {
     "name": "stderr",
     "output_type": "stream",
     "text": [
      "/Users/josiahkim/Applications/anaconda3/lib/python3.8/site-packages/sklearn/svm/_base.py:976: ConvergenceWarning: Liblinear failed to converge, increase the number of iterations.\n",
      "  warnings.warn(\"Liblinear failed to converge, increase \"\n",
      "/Users/josiahkim/Applications/anaconda3/lib/python3.8/site-packages/sklearn/svm/_base.py:976: ConvergenceWarning: Liblinear failed to converge, increase the number of iterations.\n",
      "  warnings.warn(\"Liblinear failed to converge, increase \"\n",
      "/Users/josiahkim/Applications/anaconda3/lib/python3.8/site-packages/sklearn/svm/_base.py:976: ConvergenceWarning: Liblinear failed to converge, increase the number of iterations.\n",
      "  warnings.warn(\"Liblinear failed to converge, increase \"\n",
      "/Users/josiahkim/Applications/anaconda3/lib/python3.8/site-packages/sklearn/svm/_base.py:976: ConvergenceWarning: Liblinear failed to converge, increase the number of iterations.\n",
      "  warnings.warn(\"Liblinear failed to converge, increase \"\n",
      "/Users/josiahkim/Applications/anaconda3/lib/python3.8/site-packages/sklearn/svm/_base.py:976: ConvergenceWarning: Liblinear failed to converge, increase the number of iterations.\n",
      "  warnings.warn(\"Liblinear failed to converge, increase \"\n",
      "/Users/josiahkim/Applications/anaconda3/lib/python3.8/site-packages/sklearn/svm/_base.py:976: ConvergenceWarning: Liblinear failed to converge, increase the number of iterations.\n",
      "  warnings.warn(\"Liblinear failed to converge, increase \"\n"
     ]
    },
    {
     "name": "stdout",
     "output_type": "stream",
     "text": [
      "C:10000 0.9687305967575026\n"
     ]
    },
    {
     "name": "stderr",
     "output_type": "stream",
     "text": [
      "/Users/josiahkim/Applications/anaconda3/lib/python3.8/site-packages/sklearn/svm/_base.py:976: ConvergenceWarning: Liblinear failed to converge, increase the number of iterations.\n",
      "  warnings.warn(\"Liblinear failed to converge, increase \"\n",
      "/Users/josiahkim/Applications/anaconda3/lib/python3.8/site-packages/sklearn/svm/_base.py:976: ConvergenceWarning: Liblinear failed to converge, increase the number of iterations.\n",
      "  warnings.warn(\"Liblinear failed to converge, increase \"\n",
      "/Users/josiahkim/Applications/anaconda3/lib/python3.8/site-packages/sklearn/svm/_base.py:976: ConvergenceWarning: Liblinear failed to converge, increase the number of iterations.\n",
      "  warnings.warn(\"Liblinear failed to converge, increase \"\n",
      "/Users/josiahkim/Applications/anaconda3/lib/python3.8/site-packages/sklearn/svm/_base.py:976: ConvergenceWarning: Liblinear failed to converge, increase the number of iterations.\n",
      "  warnings.warn(\"Liblinear failed to converge, increase \"\n",
      "/Users/josiahkim/Applications/anaconda3/lib/python3.8/site-packages/sklearn/svm/_base.py:976: ConvergenceWarning: Liblinear failed to converge, increase the number of iterations.\n",
      "  warnings.warn(\"Liblinear failed to converge, increase \"\n",
      "/Users/josiahkim/Applications/anaconda3/lib/python3.8/site-packages/sklearn/svm/_base.py:976: ConvergenceWarning: Liblinear failed to converge, increase the number of iterations.\n",
      "  warnings.warn(\"Liblinear failed to converge, increase \"\n"
     ]
    },
    {
     "name": "stdout",
     "output_type": "stream",
     "text": [
      "C:20000 0.969115047881864\n"
     ]
    },
    {
     "name": "stderr",
     "output_type": "stream",
     "text": [
      "/Users/josiahkim/Applications/anaconda3/lib/python3.8/site-packages/sklearn/svm/_base.py:976: ConvergenceWarning: Liblinear failed to converge, increase the number of iterations.\n",
      "  warnings.warn(\"Liblinear failed to converge, increase \"\n",
      "/Users/josiahkim/Applications/anaconda3/lib/python3.8/site-packages/sklearn/svm/_base.py:976: ConvergenceWarning: Liblinear failed to converge, increase the number of iterations.\n",
      "  warnings.warn(\"Liblinear failed to converge, increase \"\n",
      "/Users/josiahkim/Applications/anaconda3/lib/python3.8/site-packages/sklearn/svm/_base.py:976: ConvergenceWarning: Liblinear failed to converge, increase the number of iterations.\n",
      "  warnings.warn(\"Liblinear failed to converge, increase \"\n",
      "/Users/josiahkim/Applications/anaconda3/lib/python3.8/site-packages/sklearn/svm/_base.py:976: ConvergenceWarning: Liblinear failed to converge, increase the number of iterations.\n",
      "  warnings.warn(\"Liblinear failed to converge, increase \"\n",
      "/Users/josiahkim/Applications/anaconda3/lib/python3.8/site-packages/sklearn/svm/_base.py:976: ConvergenceWarning: Liblinear failed to converge, increase the number of iterations.\n",
      "  warnings.warn(\"Liblinear failed to converge, increase \"\n"
     ]
    },
    {
     "name": "stdout",
     "output_type": "stream",
     "text": [
      "C:50000 0.9697554164818738\n",
      "[0.9752661016113932, 0.9784698336043627, 0.9764192907242235, 0.9737282971139474, 0.969883539479952, 0.9693712117478933, 0.9689869248837859, 0.9697555807421278, 0.9691149657517372, 0.9687305967575026, 0.969115047881864, 0.9697554164818738]\n"
     ]
    },
    {
     "name": "stderr",
     "output_type": "stream",
     "text": [
      "/Users/josiahkim/Applications/anaconda3/lib/python3.8/site-packages/sklearn/svm/_base.py:976: ConvergenceWarning: Liblinear failed to converge, increase the number of iterations.\n",
      "  warnings.warn(\"Liblinear failed to converge, increase \"\n"
     ]
    },
    {
     "data": {
      "text/plain": [
       "'\\nPerformance is the best when C = 0.1.\\n'"
      ]
     },
     "execution_count": 10,
     "metadata": {},
     "output_type": "execute_result"
    }
   ],
   "source": [
    "'''\n",
    "Train and cross-validate Linear SVM.\n",
    "'''\n",
    "C_values = [0.001, 0.1, 0.5, 1, 10, 100, 1000, 2000, 5000, 10000, 20000, 50000] # List of regularization parameter values. \n",
    "\n",
    "score_lst = []\n",
    "\n",
    "for x in C_values: # Loop through regularization parameters.\n",
    "    lsvc = LinearSVC(C = x).fit(train_X, train_y) # C > 0 makes a soft margin. \n",
    "    scores = cross_val_score(lsvc, train_X, train_y, cv=5)\n",
    "    score_lst.append(scores.mean())\n",
    "    print(\"C:\"+str(x), scores.mean())\n",
    "\n",
    "print(score_lst) \n",
    "\n",
    "'''\n",
    "Performance is the best when C = 0.1.\n",
    "'''"
   ]
  },
  {
   "cell_type": "markdown",
   "metadata": {},
   "source": [
    "It looks like performance is best when C = 0.1. There's no need to go as high as I did for the regularization parameter because the performance drop dramatically. "
   ]
  },
  {
   "cell_type": "code",
   "execution_count": 15,
   "metadata": {
    "scrolled": true
   },
   "outputs": [
    {
     "name": "stdout",
     "output_type": "stream",
     "text": [
      "0.001 0.013295166553627058 0.5215943100248033\n",
      "0.001 0.026590333107254116 0.5215943100248033\n",
      "0.001 0.13295166553627058 0.5215943100248033\n",
      "0.001 1.3295166553627058 0.5215943100248033\n",
      "0.1 0.013295166553627058 0.9830836577473349\n",
      "0.1 0.026590333107254116 0.9853906108838846\n",
      "0.1 0.13295166553627058 0.5269772006767522\n",
      "0.1 1.3295166553627058 0.5215943100248033\n",
      "0.5 0.013295166553627058 0.9917983212602046\n",
      "0.5 0.026590333107254116 0.9929517567634161\n",
      "0.5 0.13295166553627058 0.8683835148409139\n",
      "0.5 1.3295166553627058 0.5215943100248033\n",
      "1 0.013295166553627058 0.9924390183807225\n",
      "1 0.026590333107254116 0.9946176021288128\n",
      "1 0.13295166553627058 0.9332310813252518\n",
      "1 1.3295166553627058 0.5215943100248033\n",
      "10 0.013295166553627058 0.9939767407480412\n",
      "10 0.026590333107254116 0.9950021353833012\n",
      "10 0.13295166553627058 0.9382293565925852\n",
      "10 1.3295166553627058 0.5215943100248033\n",
      "100 0.013295166553627058 0.9939767407480412\n",
      "100 0.026590333107254116 0.9950021353833012\n",
      "100 0.13295166553627058 0.9382293565925852\n",
      "100 1.3295166553627058 0.5215943100248033\n",
      "{(0.001, 0.013295166553627058): 0.5215943100248033, (0.001, 0.026590333107254116): 0.5215943100248033, (0.001, 0.13295166553627058): 0.5215943100248033, (0.001, 1.3295166553627058): 0.5215943100248033, (0.1, 0.013295166553627058): 0.9830836577473349, (0.1, 0.026590333107254116): 0.9853906108838846, (0.1, 0.13295166553627058): 0.5269772006767522, (0.1, 1.3295166553627058): 0.5215943100248033, (0.5, 0.013295166553627058): 0.9917983212602046, (0.5, 0.026590333107254116): 0.9929517567634161, (0.5, 0.13295166553627058): 0.8683835148409139, (0.5, 1.3295166553627058): 0.5215943100248033, (1, 0.013295166553627058): 0.9924390183807225, (1, 0.026590333107254116): 0.9946176021288128, (1, 0.13295166553627058): 0.9332310813252518, (1, 1.3295166553627058): 0.5215943100248033, (10, 0.013295166553627058): 0.9939767407480412, (10, 0.026590333107254116): 0.9950021353833012, (10, 0.13295166553627058): 0.9382293565925852, (10, 1.3295166553627058): 0.5215943100248033, (100, 0.013295166553627058): 0.9939767407480412, (100, 0.026590333107254116): 0.9950021353833012, (100, 0.13295166553627058): 0.9382293565925852, (100, 1.3295166553627058): 0.5215943100248033}\n"
     ]
    }
   ],
   "source": [
    "'''\n",
    "Train and cross-validate SVM with soft margin and RBF Kernel.\n",
    "'''\n",
    "variance = train_X.var()\n",
    "p, n_features = train_X.shape\n",
    "default_gamma = 1/(variance*n_features) # This is the SVM function default gamma value. \n",
    "\n",
    "C_values = [0.001, 0.1, 0.5, 1, 10, 100] # List of regularization parameter values. \n",
    "gamma_values = [default_gamma, default_gamma*2, default_gamma*10, default_gamma*100] # List of kernal bandwidth parameters. \n",
    "score_lst = {}\n",
    "\n",
    "for c in C_values:\n",
    "    for g in gamma_values:\n",
    "        rbf = SVC(kernel='rbf', C =c, gamma = g).fit(train_X, train_y) # C > 0 makes a soft margin. \n",
    "        scores = cross_val_score(rbf, train_X, train_y, cv=5)\n",
    "        score_lst[c, g] = scores.mean()       \n",
    "        print(c, g, scores.mean())\n",
    "        \n",
    "print(score_lst)\n"
   ]
  },
  {
   "cell_type": "code",
   "execution_count": 17,
   "metadata": {
    "scrolled": true
   },
   "outputs": [
    {
     "name": "stdout",
     "output_type": "stream",
     "text": [
      "[((10, 0.026590333107254116), 0.9950021353833012), ((100, 0.026590333107254116), 0.9950021353833012), ((1, 0.026590333107254116), 0.9946176021288128), ((10, 0.013295166553627058), 0.9939767407480412), ((100, 0.013295166553627058), 0.9939767407480412), ((0.5, 0.026590333107254116), 0.9929517567634161), ((1, 0.013295166553627058), 0.9924390183807225), ((0.5, 0.013295166553627058), 0.9917983212602046), ((0.1, 0.026590333107254116), 0.9853906108838846), ((0.1, 0.013295166553627058), 0.9830836577473349), ((10, 0.13295166553627058), 0.9382293565925852), ((100, 0.13295166553627058), 0.9382293565925852), ((1, 0.13295166553627058), 0.9332310813252518), ((0.5, 0.13295166553627058), 0.8683835148409139), ((0.1, 0.13295166553627058), 0.5269772006767522), ((0.001, 0.013295166553627058), 0.5215943100248033), ((0.001, 0.026590333107254116), 0.5215943100248033), ((0.001, 0.13295166553627058), 0.5215943100248033), ((0.001, 1.3295166553627058), 0.5215943100248033), ((0.1, 1.3295166553627058), 0.5215943100248033), ((0.5, 1.3295166553627058), 0.5215943100248033), ((1, 1.3295166553627058), 0.5215943100248033), ((10, 1.3295166553627058), 0.5215943100248033), ((100, 1.3295166553627058), 0.5215943100248033)]\n"
     ]
    }
   ],
   "source": [
    "'''\n",
    "See which parameters performed best.\n",
    "'''\n",
    "print(sorted(score_lst.items(), key=lambda x: x[1], reverse=True))"
   ]
  },
  {
   "cell_type": "markdown",
   "metadata": {},
   "source": [
    "Best Performing: C = 10, gamma = 0.026590333107254116, Score: 0.9950021353833012"
   ]
  },
  {
   "cell_type": "code",
   "execution_count": 19,
   "metadata": {},
   "outputs": [
    {
     "name": "stdout",
     "output_type": "stream",
     "text": [
      "The misclassification rate for SVM with soft margin and RBF is: 0.0038446751249519018\n",
      "The misclassification rate for Linear NVM with soft margin is: 0.016916570549788568\n"
     ]
    }
   ],
   "source": [
    "'''\n",
    "Run the models with the best parameters, then\n",
    "evaluate the models using accuracy score.\n",
    "'''\n",
    "from sklearn.metrics import accuracy_score\n",
    "\n",
    "rbf = SVC(kernel='rbf', C =10, gamma = 0.026590333107254116).fit(train_X, train_y)\n",
    "lsvc = LinearSVC(C = 0.1).fit(train_X, train_y)\n",
    "\n",
    "rbf_pred = rbf.predict(test_X)\n",
    "lsvc_pred = lsvc.predict(test_X)\n",
    "\n",
    "print(\"The misclassification rate for SVM with soft margin and RBF is:\", 1-accuracy_score(test_y, rbf_pred))\n",
    "print(\"The misclassification rate for Linear NVM with soft margin is:\", 1-accuracy_score(test_y, lsvc_pred))"
   ]
  },
  {
   "cell_type": "code",
   "execution_count": 119,
   "metadata": {},
   "outputs": [
    {
     "data": {
      "image/png": "[encoded data removed]",
      "text/plain": [
       "<Figure size 432x288 with 1 Axes>"
      ]
     },
     "metadata": {
      "needs_background": "light"
     },
     "output_type": "display_data"
    }
   ],
   "source": [
    "'''\n",
    "1.a) Plot rate as as function of the margin parameter in the linear case.\n",
    "'''\n",
    "import matplotlib.pyplot as plt \n",
    "\n",
    "C_values = [0.001, 0.1, 0.5, 1, 10, 100, 1000, 2000, 5000, 10000, 20000, 50000]\n",
    "accuracy_scores = [0.9752661016113932, 0.9784698336043627, 0.9764192907242235, \n",
    "                   0.9737282971139474, 0.969883539479952, 0.9693712117478933, \n",
    "                   0.9689869248837859, 0.9697555807421278, 0.9691149657517372, \n",
    "                   0.9687305967575026, 0.969115047881864, 0.9697554164818738]\n",
    "misclassification_rates = [1-x for x in accuracy_scores]\n",
    "\n",
    "plt.plot(C_values, misclassification_rates)\n",
    "plt.show()"
   ]
  },
  {
   "cell_type": "code",
   "execution_count": 129,
   "metadata": {},
   "outputs": [
    {
     "data": {
      "text/plain": [
       "<AxesSubplot:xlabel='g_values', ylabel='C_values'>"
      ]
     },
     "execution_count": 129,
     "metadata": {},
     "output_type": "execute_result"
    },
    {
     "data": {
      "image/png": "[encoded data removed]",
      "text/plain": [
       "<Figure size 432x288 with 2 Axes>"
      ]
     },
     "metadata": {
      "needs_background": "light"
     },
     "output_type": "display_data"
    }
   ],
   "source": [
    "'''\n",
    "1.b) Plot the rate as a function of the margin parameter \n",
    "and the kernel bandwidth in the non-linear case.\n",
    "(use heat map)\n",
    "'''\n",
    "import seaborn as sns\n",
    "\n",
    "\n",
    "main_dict = {(0.001, 0.013295166553627058): 0.5215943100248033, \n",
    "             (0.001, 0.026590333107254116): 0.5215943100248033, \n",
    "             (0.001, 0.13295166553627058): 0.5215943100248033, \n",
    "             (0.001, 1.3295166553627058): 0.5215943100248033, \n",
    "             (0.1, 0.013295166553627058): 0.9830836577473349, \n",
    "             (0.1, 0.026590333107254116): 0.9853906108838846, \n",
    "             (0.1, 0.13295166553627058): 0.5269772006767522, \n",
    "             (0.1, 1.3295166553627058): 0.5215943100248033, \n",
    "             (0.5, 0.013295166553627058): 0.9917983212602046, \n",
    "             (0.5, 0.026590333107254116): 0.9929517567634161, \n",
    "             (0.5, 0.13295166553627058): 0.8683835148409139, \n",
    "             (0.5, 1.3295166553627058): 0.5215943100248033, \n",
    "             (1, 0.013295166553627058): 0.9924390183807225, \n",
    "             (1, 0.026590333107254116): 0.9946176021288128, \n",
    "             (1, 0.13295166553627058): 0.9332310813252518, \n",
    "             (1, 1.3295166553627058): 0.5215943100248033, \n",
    "             (10, 0.013295166553627058): 0.9939767407480412, \n",
    "             (10, 0.026590333107254116): 0.9950021353833012, \n",
    "             (10, 0.13295166553627058): 0.9382293565925852, \n",
    "             (10, 1.3295166553627058): 0.5215943100248033, \n",
    "             (100, 0.013295166553627058): 0.9939767407480412, \n",
    "             (100, 0.026590333107254116): 0.9950021353833012, \n",
    "             (100, 0.13295166553627058): 0.9382293565925852, \n",
    "             (100, 1.3295166553627058): 0.5215943100248033}\n",
    "C_values = []\n",
    "g_values = []\n",
    "misclassification_rates = []\n",
    "\n",
    "for c, g in main_dict: # Put each value in separate lists - apart from the dictionary.\n",
    "    C_values.append(c)\n",
    "    g_values.append(g)\n",
    "    misclassification_rates.append(main_dict[c, g])\n",
    "\n",
    "df = pd.DataFrame({'C_values': C_values, 'g_values': g_values, 'misclassification_rates': misclassification_rates })\n",
    "rates = df.pivot(\"C_values\", \"g_values\", \"misclassification_rates\")\n",
    "\n",
    "ax = sns.heatmap(rates)\n",
    "\n",
    "ax\n",
    "#df = pd.DataFrame(i, columns = C_values)\n",
    "\n",
    "#p1 = sns.heatmap(df_wide)\n",
    "\n"
   ]
  },
  {
   "cell_type": "markdown",
   "metadata": {},
   "source": [
    "2) We saw above that the misclassification rate for SVM with soft margin and RBF was 0.0038446751249519018 and the misclassification rate for Linear SVM with soft margin was 0.016916570549788568. We should not consider using Linear SVM for this data because the misclassification rate was higher than non-linear SVM. "
   ]
  },
  {
   "cell_type": "markdown",
   "metadata": {},
   "source": [
    "## Neural Network for Classifying Digits"
   ]
  },
  {
   "cell_type": "code",
   "execution_count": 68,
   "metadata": {},
   "outputs": [],
   "source": [
    "from tensorflow import keras\n",
    "from tensorflow.keras import layers\n",
    "from keras.layers import Dense\n",
    "from keras.models import Sequential"
   ]
  },
  {
   "cell_type": "code",
   "execution_count": 81,
   "metadata": {},
   "outputs": [],
   "source": [
    "# reconstruct data shape\n",
    "train_X = train_X.reshape(-1, 28, 28, 1)\n",
    "test_X = test_X.reshape(-1, 28, 28, 1)\n",
    "train_y = keras.utils.to_categorical(train_y, num_classes=2)\n",
    "#train_y = np.asarray(train_y).astype('float32').reshape((-1,1))\n",
    "test_y = keras.utils.to_categorical(test_y, num_classes=2)\n",
    "#test_y = np.asarray(test_y).astype('float32').reshape((-1,1))\n",
    "\n",
    "input_shape = (28, 28, 1)\n",
    "num_classes = 2"
   ]
  },
  {
   "cell_type": "code",
   "execution_count": 94,
   "metadata": {},
   "outputs": [],
   "source": [
    "# define model structure\n",
    "model = Sequential([\n",
    "    Dense(32, activation='relu'),\n",
    "    Dense(32, activation='relu'),\n",
    "    Dense(1, activation='sigmoid'),\n",
    "])\n"
   ]
  },
  {
   "cell_type": "code",
   "execution_count": 95,
   "metadata": {},
   "outputs": [],
   "source": [
    "# Compile the model\n",
    "opt = keras.optimizers.SGD(learning_rate=0.1)\n",
    "model.compile(optimizer='sgd',\n",
    "              loss='binary_crossentropy',\n",
    "              metrics=['accuracy'])"
   ]
  },
  {
   "cell_type": "code",
   "execution_count": 96,
   "metadata": {},
   "outputs": [
    {
     "name": "stdout",
     "output_type": "stream",
     "text": [
      "Epoch 1/10\n",
      "61/61 [==============================] - 1s 6ms/step - loss: 0.5567 - accuracy: 0.7846 - val_loss: 0.4186 - val_accuracy: 0.9097\n",
      "Epoch 2/10\n",
      "61/61 [==============================] - 0s 2ms/step - loss: 0.3251 - accuracy: 0.9336 - val_loss: 0.2449 - val_accuracy: 0.9462\n",
      "Epoch 3/10\n",
      "61/61 [==============================] - 0s 2ms/step - loss: 0.2083 - accuracy: 0.9514 - val_loss: 0.1709 - val_accuracy: 0.9592\n",
      "Epoch 4/10\n",
      "61/61 [==============================] - 0s 2ms/step - loss: 0.1578 - accuracy: 0.9580 - val_loss: 0.1366 - val_accuracy: 0.9646\n",
      "Epoch 5/10\n",
      "61/61 [==============================] - 0s 2ms/step - loss: 0.1323 - accuracy: 0.9618 - val_loss: 0.1175 - val_accuracy: 0.9681\n",
      "Epoch 6/10\n",
      "61/61 [==============================] - 0s 2ms/step - loss: 0.1171 - accuracy: 0.9653 - val_loss: 0.1055 - val_accuracy: 0.9708\n",
      "Epoch 7/10\n",
      "61/61 [==============================] - 0s 2ms/step - loss: 0.1072 - accuracy: 0.9660 - val_loss: 0.0975 - val_accuracy: 0.9723\n",
      "Epoch 8/10\n",
      "61/61 [==============================] - 0s 2ms/step - loss: 0.1001 - accuracy: 0.9680 - val_loss: 0.0916 - val_accuracy: 0.9750\n",
      "Epoch 9/10\n",
      "61/61 [==============================] - 0s 2ms/step - loss: 0.0945 - accuracy: 0.9691 - val_loss: 0.0874 - val_accuracy: 0.9750\n",
      "Epoch 10/10\n",
      "61/61 [==============================] - 0s 2ms/step - loss: 0.0904 - accuracy: 0.9694 - val_loss: 0.0839 - val_accuracy: 0.9762\n"
     ]
    }
   ],
   "source": [
    "# train model\n",
    "hist = model.fit(train_X, train_y,\n",
    "          batch_size=128, epochs=10,\n",
    "          validation_data=(test_X, test_y))"
   ]
  },
  {
   "cell_type": "code",
   "execution_count": 97,
   "metadata": {},
   "outputs": [
    {
     "name": "stdout",
     "output_type": "stream",
     "text": [
      "82/82 [==============================] - 0s 1ms/step - loss: 0.0839 - accuracy: 0.9762\n",
      "0.08391566574573517\n"
     ]
    }
   ],
   "source": [
    "# evaluate the trained model\n",
    "print(model.evaluate(test_X, test_y)[0])"
   ]
  },
  {
   "cell_type": "markdown",
   "metadata": {},
   "source": [
    "The training loss is: 0.08391566574573517."
   ]
  },
  {
   "cell_type": "code",
   "execution_count": 98,
   "metadata": {},
   "outputs": [
    {
     "data": {
      "image/png": "[encoded data removed]",
      "text/plain": [
       "<Figure size 432x288 with 1 Axes>"
      ]
     },
     "metadata": {
      "needs_background": "light"
     },
     "output_type": "display_data"
    }
   ],
   "source": [
    "'''\n",
    "B.1) Plot the learning curve with respect training loss.\n",
    "'''\n",
    "import matplotlib.pyplot as plt\n",
    "\n",
    "plt.plot(hist.history['loss'])\n",
    "plt.plot(hist.history['val_loss'])\n",
    "plt.title('Model loss')\n",
    "plt.ylabel('Loss')\n",
    "plt.xlabel('Epoch')\n",
    "plt.legend(['Train', 'Val'], loc='upper right')\n",
    "plt.show()\n"
   ]
  },
  {
   "cell_type": "code",
   "execution_count": 112,
   "metadata": {},
   "outputs": [
    {
     "name": "stdout",
     "output_type": "stream",
     "text": [
      "Epoch 1/10\n",
      "61/61 [==============================] - 0s 3ms/step - loss: 0.6118 - accuracy: 0.6751 - val_loss: 0.5128 - val_accuracy: 0.8370\n",
      "Epoch 2/10\n",
      "61/61 [==============================] - 0s 2ms/step - loss: 0.4136 - accuracy: 0.9009 - val_loss: 0.3232 - val_accuracy: 0.9346\n",
      "Epoch 3/10\n",
      "61/61 [==============================] - 0s 2ms/step - loss: 0.2648 - accuracy: 0.9460 - val_loss: 0.2128 - val_accuracy: 0.9581\n",
      "Epoch 4/10\n",
      "61/61 [==============================] - 0s 2ms/step - loss: 0.1871 - accuracy: 0.9568 - val_loss: 0.1585 - val_accuracy: 0.9650\n",
      "Epoch 5/10\n",
      "61/61 [==============================] - 0s 2ms/step - loss: 0.1485 - accuracy: 0.9621 - val_loss: 0.1299 - val_accuracy: 0.9692\n",
      "Epoch 6/10\n",
      "61/61 [==============================] - 0s 2ms/step - loss: 0.1269 - accuracy: 0.9648 - val_loss: 0.1129 - val_accuracy: 0.9719\n",
      "Epoch 7/10\n",
      "61/61 [==============================] - 0s 2ms/step - loss: 0.1132 - accuracy: 0.9671 - val_loss: 0.1018 - val_accuracy: 0.9727\n",
      "Epoch 8/10\n",
      "61/61 [==============================] - 0s 2ms/step - loss: 0.1037 - accuracy: 0.9694 - val_loss: 0.0944 - val_accuracy: 0.9762\n",
      "Epoch 9/10\n",
      "61/61 [==============================] - 0s 2ms/step - loss: 0.0968 - accuracy: 0.9701 - val_loss: 0.0886 - val_accuracy: 0.9769\n",
      "Epoch 10/10\n",
      "61/61 [==============================] - 0s 2ms/step - loss: 0.0916 - accuracy: 0.9705 - val_loss: 0.0843 - val_accuracy: 0.9773\n"
     ]
    },
    {
     "data": {
      "image/png": "[encoded data removed]",
      "text/plain": [
       "<Figure size 432x288 with 1 Axes>"
      ]
     },
     "metadata": {
      "needs_background": "light"
     },
     "output_type": "display_data"
    }
   ],
   "source": [
    "'''\n",
    "B. 2) Tune the learning rate.\n",
    "\n",
    "learning_rate = 0.01\n",
    "'''\n",
    "model2 = Sequential([\n",
    "    Dense(32, activation='relu'),\n",
    "    Dense(32, activation='relu'),\n",
    "    Dense(1, activation='sigmoid'),\n",
    "])\n",
    "opt = keras.optimizers.SGD(learning_rate=0.01)\n",
    "model2.compile(optimizer='sgd',\n",
    "              loss='binary_crossentropy',\n",
    "              metrics=['accuracy'])\n",
    "hist2 = model2.fit(train_X, train_y,\n",
    "          batch_size=128, epochs=10,\n",
    "          validation_data=(test_X, test_y))\n",
    "plt.plot(hist2.history['loss'])\n",
    "plt.plot(hist2.history['val_loss'])\n",
    "plt.title('Model loss')\n",
    "plt.ylabel('Loss')\n",
    "plt.xlabel('Epoch')\n",
    "plt.legend(['Train', 'Val'], loc='upper right')\n",
    "plt.show()\n"
   ]
  },
  {
   "cell_type": "code",
   "execution_count": 113,
   "metadata": {},
   "outputs": [
    {
     "name": "stdout",
     "output_type": "stream",
     "text": [
      "Epoch 1/10\n",
      "61/61 [==============================] - 0s 3ms/step - loss: 0.6143 - accuracy: 0.7448 - val_loss: 0.4798 - val_accuracy: 0.9235\n",
      "Epoch 2/10\n",
      "61/61 [==============================] - 0s 2ms/step - loss: 0.3678 - accuracy: 0.9428 - val_loss: 0.2754 - val_accuracy: 0.9519\n",
      "Epoch 3/10\n",
      "61/61 [==============================] - 0s 2ms/step - loss: 0.2237 - accuracy: 0.9558 - val_loss: 0.1842 - val_accuracy: 0.9589\n",
      "Epoch 4/10\n",
      "61/61 [==============================] - 0s 2ms/step - loss: 0.1623 - accuracy: 0.9617 - val_loss: 0.1436 - val_accuracy: 0.9631\n",
      "Epoch 5/10\n",
      "61/61 [==============================] - 0s 2ms/step - loss: 0.1328 - accuracy: 0.9649 - val_loss: 0.1222 - val_accuracy: 0.9673\n",
      "Epoch 6/10\n",
      "61/61 [==============================] - 0s 2ms/step - loss: 0.1163 - accuracy: 0.9666 - val_loss: 0.1090 - val_accuracy: 0.9723\n",
      "Epoch 7/10\n",
      "61/61 [==============================] - 0s 2ms/step - loss: 0.1056 - accuracy: 0.9683 - val_loss: 0.1003 - val_accuracy: 0.9735\n",
      "Epoch 8/10\n",
      "61/61 [==============================] - 0s 2ms/step - loss: 0.0982 - accuracy: 0.9691 - val_loss: 0.0945 - val_accuracy: 0.9727\n",
      "Epoch 9/10\n",
      "61/61 [==============================] - 0s 2ms/step - loss: 0.0929 - accuracy: 0.9709 - val_loss: 0.0897 - val_accuracy: 0.9739\n",
      "Epoch 10/10\n",
      "61/61 [==============================] - 0s 2ms/step - loss: 0.0885 - accuracy: 0.9731 - val_loss: 0.0862 - val_accuracy: 0.9754\n"
     ]
    },
    {
     "data": {
      "image/png": "[encoded data removed]",
      "text/plain": [
       "<Figure size 432x288 with 1 Axes>"
      ]
     },
     "metadata": {
      "needs_background": "light"
     },
     "output_type": "display_data"
    }
   ],
   "source": [
    "'''\n",
    "B. 2) Tune the learning rate.\n",
    "\n",
    "learning_rate = 1\n",
    "'''\n",
    "model3 = Sequential([\n",
    "    Dense(32, activation='relu'),\n",
    "    Dense(32, activation='relu'),\n",
    "    Dense(1, activation='sigmoid'),\n",
    "])\n",
    "opt = keras.optimizers.SGD(learning_rate=1)\n",
    "model3.compile(optimizer='sgd',\n",
    "              loss='binary_crossentropy',\n",
    "              metrics=['accuracy'])\n",
    "hist3 = model3.fit(train_X, train_y,\n",
    "          batch_size=128, epochs=10,\n",
    "          validation_data=(test_X, test_y))\n",
    "plt.plot(hist3.history['loss'])\n",
    "plt.plot(hist3.history['val_loss'])\n",
    "plt.title('Model loss')\n",
    "plt.ylabel('Loss')\n",
    "plt.xlabel('Epoch')\n",
    "plt.legend(['Train', 'Val'], loc='upper right')\n",
    "plt.show()"
   ]
  },
  {
   "cell_type": "code",
   "execution_count": 114,
   "metadata": {},
   "outputs": [
    {
     "name": "stdout",
     "output_type": "stream",
     "text": [
      "Epoch 1/10\n",
      "61/61 [==============================] - 0s 3ms/step - loss: 0.6406 - accuracy: 0.7392 - val_loss: 0.5487 - val_accuracy: 0.9350\n",
      "Epoch 2/10\n",
      "61/61 [==============================] - 0s 2ms/step - loss: 0.4230 - accuracy: 0.9495 - val_loss: 0.3045 - val_accuracy: 0.9589\n",
      "Epoch 3/10\n",
      "61/61 [==============================] - 0s 2ms/step - loss: 0.2413 - accuracy: 0.9598 - val_loss: 0.1887 - val_accuracy: 0.9627\n",
      "Epoch 4/10\n",
      "61/61 [==============================] - 0s 2ms/step - loss: 0.1668 - accuracy: 0.9640 - val_loss: 0.1412 - val_accuracy: 0.9673\n",
      "Epoch 5/10\n",
      "61/61 [==============================] - 0s 2ms/step - loss: 0.1333 - accuracy: 0.9653 - val_loss: 0.1174 - val_accuracy: 0.9704\n",
      "Epoch 6/10\n",
      "61/61 [==============================] - 0s 2ms/step - loss: 0.1151 - accuracy: 0.9673 - val_loss: 0.1037 - val_accuracy: 0.9712\n",
      "Epoch 7/10\n",
      "61/61 [==============================] - 0s 2ms/step - loss: 0.1035 - accuracy: 0.9701 - val_loss: 0.0951 - val_accuracy: 0.9739\n",
      "Epoch 8/10\n",
      "61/61 [==============================] - 0s 2ms/step - loss: 0.0957 - accuracy: 0.9707 - val_loss: 0.0888 - val_accuracy: 0.9750\n",
      "Epoch 9/10\n",
      "61/61 [==============================] - 0s 2ms/step - loss: 0.0900 - accuracy: 0.9718 - val_loss: 0.0843 - val_accuracy: 0.9765\n",
      "Epoch 10/10\n",
      "61/61 [==============================] - 0s 2ms/step - loss: 0.0856 - accuracy: 0.9728 - val_loss: 0.0809 - val_accuracy: 0.9773\n"
     ]
    },
    {
     "data": {
      "image/png": "[encoded data removed]",
      "text/plain": [
       "<Figure size 432x288 with 1 Axes>"
      ]
     },
     "metadata": {
      "needs_background": "light"
     },
     "output_type": "display_data"
    }
   ],
   "source": [
    "'''\n",
    "B. 2) Tune the learning rate.\n",
    "\n",
    "learning_rate = 10\n",
    "'''\n",
    "model4 = Sequential([\n",
    "    Dense(32, activation='relu'),\n",
    "    Dense(32, activation='relu'),\n",
    "    Dense(1, activation='sigmoid'),\n",
    "])\n",
    "opt = keras.optimizers.SGD(learning_rate=10)\n",
    "model4.compile(optimizer='sgd',\n",
    "              loss='binary_crossentropy',\n",
    "              metrics=['accuracy'])\n",
    "hist4 = model4.fit(train_X, train_y,\n",
    "          batch_size=128, epochs=10,\n",
    "          validation_data=(test_X, test_y))\n",
    "plt.plot(hist4.history['loss'])\n",
    "plt.plot(hist4.history['val_loss'])\n",
    "plt.title('Model loss')\n",
    "plt.ylabel('Loss')\n",
    "plt.xlabel('Epoch')\n",
    "plt.legend(['Train', 'Val'], loc='upper right')\n",
    "plt.show()"
   ]
  },
  {
   "cell_type": "code",
   "execution_count": 116,
   "metadata": {},
   "outputs": [
    {
     "name": "stdout",
     "output_type": "stream",
     "text": [
      "Epoch 1/10\n",
      "61/61 [==============================] - 0s 3ms/step - loss: 0.5709 - accuracy: 0.7938 - val_loss: 0.4698 - val_accuracy: 0.9077\n",
      "Epoch 2/10\n",
      "61/61 [==============================] - 0s 2ms/step - loss: 0.3705 - accuracy: 0.9373 - val_loss: 0.2864 - val_accuracy: 0.9477\n",
      "Epoch 3/10\n",
      "61/61 [==============================] - 0s 2ms/step - loss: 0.2330 - accuracy: 0.9553 - val_loss: 0.1917 - val_accuracy: 0.9550\n",
      "Epoch 4/10\n",
      "61/61 [==============================] - 0s 2ms/step - loss: 0.1679 - accuracy: 0.9604 - val_loss: 0.1470 - val_accuracy: 0.9616\n",
      "Epoch 5/10\n",
      "61/61 [==============================] - 0s 2ms/step - loss: 0.1358 - accuracy: 0.9648 - val_loss: 0.1233 - val_accuracy: 0.9635\n",
      "Epoch 6/10\n",
      "61/61 [==============================] - 0s 2ms/step - loss: 0.1176 - accuracy: 0.9673 - val_loss: 0.1092 - val_accuracy: 0.9673\n",
      "Epoch 7/10\n",
      "61/61 [==============================] - 0s 2ms/step - loss: 0.1061 - accuracy: 0.9681 - val_loss: 0.0999 - val_accuracy: 0.9704\n",
      "Epoch 8/10\n",
      "61/61 [==============================] - 0s 2ms/step - loss: 0.0983 - accuracy: 0.9696 - val_loss: 0.0935 - val_accuracy: 0.9727\n",
      "Epoch 9/10\n",
      "61/61 [==============================] - 0s 2ms/step - loss: 0.0923 - accuracy: 0.9709 - val_loss: 0.0887 - val_accuracy: 0.9731\n",
      "Epoch 10/10\n",
      "61/61 [==============================] - 0s 2ms/step - loss: 0.0878 - accuracy: 0.9724 - val_loss: 0.0850 - val_accuracy: 0.9742\n"
     ]
    },
    {
     "data": {
      "image/png": "[encoded data removed]",
      "text/plain": [
       "<Figure size 432x288 with 1 Axes>"
      ]
     },
     "metadata": {
      "needs_background": "light"
     },
     "output_type": "display_data"
    }
   ],
   "source": [
    "'''\n",
    "B. 2) Tune the learning rate.\n",
    "\n",
    "learning_rate = 100\n",
    "'''\n",
    "model5 = Sequential([\n",
    "    Dense(32, activation='relu'),\n",
    "    Dense(32, activation='relu'),\n",
    "    Dense(1, activation='sigmoid'),\n",
    "])\n",
    "opt = keras.optimizers.SGD(learning_rate=100)\n",
    "model5.compile(optimizer='sgd',\n",
    "              loss='binary_crossentropy',\n",
    "              metrics=['accuracy'])\n",
    "hist5 = model5.fit(train_X, train_y,\n",
    "          batch_size=128, epochs=10,\n",
    "          validation_data=(test_X, test_y))\n",
    "plt.plot(hist5.history['loss'])\n",
    "plt.plot(hist5.history['val_loss'])\n",
    "plt.title('Model loss')\n",
    "plt.ylabel('Loss')\n",
    "plt.xlabel('Epoch')\n",
    "plt.legend(['Train', 'Val'], loc='upper right')\n",
    "plt.show()"
   ]
  },
  {
   "cell_type": "code",
   "execution_count": 117,
   "metadata": {},
   "outputs": [
    {
     "name": "stdout",
     "output_type": "stream",
     "text": [
      "Epoch 1/10\n",
      "61/61 [==============================] - 0s 3ms/step - loss: 0.6153 - accuracy: 0.6952 - val_loss: 0.5017 - val_accuracy: 0.9239\n",
      "Epoch 2/10\n",
      "61/61 [==============================] - 0s 2ms/step - loss: 0.3972 - accuracy: 0.9323 - val_loss: 0.2966 - val_accuracy: 0.9493\n",
      "Epoch 3/10\n",
      "61/61 [==============================] - 0s 2ms/step - loss: 0.2432 - accuracy: 0.9489 - val_loss: 0.1943 - val_accuracy: 0.9562\n",
      "Epoch 4/10\n",
      "61/61 [==============================] - 0s 2ms/step - loss: 0.1737 - accuracy: 0.9563 - val_loss: 0.1477 - val_accuracy: 0.9627\n",
      "Epoch 5/10\n",
      "61/61 [==============================] - 0s 2ms/step - loss: 0.1398 - accuracy: 0.9610 - val_loss: 0.1232 - val_accuracy: 0.9677\n",
      "Epoch 6/10\n",
      "61/61 [==============================] - 0s 2ms/step - loss: 0.1205 - accuracy: 0.9639 - val_loss: 0.1089 - val_accuracy: 0.9719\n",
      "Epoch 7/10\n",
      "61/61 [==============================] - 0s 2ms/step - loss: 0.1085 - accuracy: 0.9671 - val_loss: 0.0992 - val_accuracy: 0.9739\n",
      "Epoch 8/10\n",
      "61/61 [==============================] - 0s 2ms/step - loss: 0.1001 - accuracy: 0.9681 - val_loss: 0.0926 - val_accuracy: 0.9758\n",
      "Epoch 9/10\n",
      "61/61 [==============================] - 0s 2ms/step - loss: 0.0940 - accuracy: 0.9703 - val_loss: 0.0878 - val_accuracy: 0.9765\n",
      "Epoch 10/10\n",
      "61/61 [==============================] - 0s 2ms/step - loss: 0.0893 - accuracy: 0.9714 - val_loss: 0.0844 - val_accuracy: 0.9773\n"
     ]
    },
    {
     "data": {
      "image/png": "[encoded data removed]",
      "text/plain": [
       "<Figure size 432x288 with 1 Axes>"
      ]
     },
     "metadata": {
      "needs_background": "light"
     },
     "output_type": "display_data"
    }
   ],
   "source": [
    "'''\n",
    "B. 2) Tune the learning rate.\n",
    "\n",
    "learning_rate = 1000\n",
    "'''\n",
    "model6 = Sequential([\n",
    "    Dense(32, activation='relu'),\n",
    "    Dense(32, activation='relu'),\n",
    "    Dense(1, activation='sigmoid'),\n",
    "])\n",
    "opt = keras.optimizers.SGD(learning_rate=1000)\n",
    "model6.compile(optimizer='sgd',\n",
    "              loss='binary_crossentropy',\n",
    "              metrics=['accuracy'])\n",
    "hist6 = model6.fit(train_X, train_y,\n",
    "          batch_size=128, epochs=10,\n",
    "          validation_data=(test_X, test_y))\n",
    "plt.plot(hist6.history['loss'])\n",
    "plt.plot(hist6.history['val_loss'])\n",
    "plt.title('Model loss')\n",
    "plt.ylabel('Loss')\n",
    "plt.xlabel('Epoch')\n",
    "plt.legend(['Train', 'Val'], loc='upper right')\n",
    "plt.show()"
   ]
  }
 ],
 "metadata": {
  "interpreter": {
   "hash": "1aebd4a71fcec916e49c5e2d294321100f54b5d9bbeca9249da939e91b36ccc5"
  },
  "kernelspec": {
   "display_name": "Python 3",
   "language": "python",
   "name": "python3"
  },
  "language_info": {
   "codemirror_mode": {
    "name": "ipython",
    "version": 3
   },
   "file_extension": ".py",
   "mimetype": "text/x-python",
   "name": "python",
   "nbconvert_exporter": "python",
   "pygments_lexer": "ipython3",
   "version": "3.8.5"
  }
 },
 "nbformat": 4,
 "nbformat_minor": 2
}
